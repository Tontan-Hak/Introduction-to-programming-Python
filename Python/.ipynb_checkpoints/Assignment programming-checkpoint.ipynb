{
 "cells": [
  {
   "cell_type": "markdown",
   "id": "9abc2cd7",
   "metadata": {},
   "source": [
    "## Assignment "
   ]
  },
  {
   "cell_type": "code",
   "execution_count": 1,
   "id": "3e742742",
   "metadata": {},
   "outputs": [
    {
     "name": "stdout",
     "output_type": "stream",
     "text": [
      "How much money you have to save into account each month? 100.00\n",
      "How many month you want to put your money?5\n",
      "How much interest you earn annually? 12.00\n",
      "\u001b[92m=============================================================================================================\u001b[0m\n",
      "\u001b[94mMonth\u001b[0m\t \u001b[93mDeposit\u001b[0m\t \u001b[92mTotal Deposits\u001b[0m\t \u001b[96mThis Month's Interest\u001b[0m\t \u001b[95mTotal-Interest Earned\u001b[0m\t \u001b[91mTotal-Value To Date\u001b[0m\n",
      "\u001b[92m=============================================================================================================\u001b[0m\n",
      "1\t 100.0\t\t   100.0\t\t   100.0\t\t 100.0\t\t    101.00\n",
      "2\t 100.0\t\t   200.0\t\t   100.0\t\t 100.0\t\t    204.02\n",
      "3\t 100.0\t\t   300.0\t\t   100.0\t\t 100.0\t\t    309.09\n",
      "4\t 100.0\t\t   400.0\t\t   100.0\t\t 100.0\t\t    416.24\n",
      "5\t 100.0\t\t   500.0\t\t   100.0\t\t 100.0\t\t    525.51\n"
     ]
    }
   ],
   "source": [
    "#Get user input\n",
    "A = float(input(\"How much money you have to save into account each month? \"))\n",
    "N = int(input(\"How many month you want to put your money?\"))\n",
    "W = float(input(\"How much interest you earn annually? \"))\n",
    "w = W / 1200 # interest for each month\n",
    "\n",
    "# Color\n",
    "class bcolors:\n",
    "    HEADER = '\\033[95m'\n",
    "    OKBLUE = '\\033[94m'\n",
    "    OKCYAN = '\\033[96m'\n",
    "    OKGREEN = '\\033[92m'\n",
    "    WARNING = '\\033[93m'\n",
    "    FAIL = '\\033[91m'\n",
    "    ENDC = '\\033[0m'\n",
    "    BOLD = '\\033[1m'\n",
    "    UNDERLINE = '\\033[4m'\n",
    "print(f\"{bcolors.OKGREEN}============================================================================================================={bcolors.ENDC}\")\n",
    "\n",
    "\n",
    "print(f\"{bcolors.OKBLUE}Month{bcolors.ENDC}\\t {bcolors.WARNING}Deposit{bcolors.ENDC}\\t {bcolors.OKGREEN}Total Deposits{bcolors.ENDC}\\t {bcolors.OKCYAN}This Month's Interest{bcolors.ENDC}\\t {bcolors.HEADER}Total-Interest Earned{bcolors.ENDC}\\t {bcolors.FAIL}Total-Value To Date{bcolors.ENDC}\")\n",
    "print(f\"{bcolors.OKGREEN}============================================================================================================={bcolors.ENDC}\")\n",
    "\n",
    "# Display Result as a table\n",
    "for time in range(1,N+1):\n",
    "    print(str(time)+\"\\t \", end='')\n",
    "    print(str(A)+\"\\t\\t   \",end ='') #Deposit\n",
    "    print(str(time*A)+\"\\t\\t   \",end ='') #Total Deposit\n",
    "    print(str(A)+\"\\t\\t \",end='') #This Month's Interest\n",
    "    print(str(A)+\"\\t\\t    \",end='') # Total-Interest Earned\n",
    "# *******************Here the problem I want to solve ******************************#\n",
    "    print(str(format((A*time)*(1+w)**time,\".2f\"))) #Total-Value To Date"
   ]
  },
  {
   "cell_type": "code",
   "execution_count": null,
   "id": "9d7c7419",
   "metadata": {},
   "outputs": [],
   "source": []
  }
 ],
 "metadata": {
  "kernelspec": {
   "display_name": "Python 3 (ipykernel)",
   "language": "python",
   "name": "python3"
  },
  "language_info": {
   "codemirror_mode": {
    "name": "ipython",
    "version": 3
   },
   "file_extension": ".py",
   "mimetype": "text/x-python",
   "name": "python",
   "nbconvert_exporter": "python",
   "pygments_lexer": "ipython3",
   "version": "3.9.7"
  }
 },
 "nbformat": 4,
 "nbformat_minor": 5
}
