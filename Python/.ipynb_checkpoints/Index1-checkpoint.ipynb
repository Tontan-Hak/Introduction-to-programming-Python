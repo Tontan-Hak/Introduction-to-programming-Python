{
 "cells": [
  {
   "cell_type": "markdown",
   "metadata": {},
   "source": [
    "<h1 style=\"font-size:3rem;color:orange;\">Jupyter Notebook Testing"
   ]
  },
  {
   "cell_type": "markdown",
   "metadata": {},
   "source": [
    "# Pythob for beginers"
   ]
  },
  {
   "cell_type": "markdown",
   "metadata": {},
   "source": [
    "<img src=\"https://content.codecademy.com/courses/web-101/web101-image_brownbear.jpg\">"
   ]
  },
  {
   "cell_type": "markdown",
   "metadata": {},
   "source": [
    "## Basic Output"
   ]
  },
  {
   "cell_type": "code",
   "execution_count": 2,
   "metadata": {},
   "outputs": [
    {
     "name": "stdout",
     "output_type": "stream",
     "text": [
      "Hello world\n"
     ]
    }
   ],
   "source": [
    "print(\"Hello world\")"
   ]
  },
  {
   "cell_type": "markdown",
   "metadata": {},
   "source": [
    "## Insert a variable into string"
   ]
  },
  {
   "cell_type": "code",
   "execution_count": 5,
   "metadata": {},
   "outputs": [
    {
     "name": "stdout",
     "output_type": "stream",
     "text": [
      "What is your name?Tontan\n",
      "Hello, Tontan!\n"
     ]
    }
   ],
   "source": [
    "person = input(\"What is your name?\")\n",
    "message = \"Hello, {}!\".format(person)\n",
    "print(message)"
   ]
  },
  {
   "cell_type": "markdown",
   "metadata": {},
   "source": [
    "## Multiline Strings and String Length"
   ]
  },
  {
   "cell_type": "code",
   "execution_count": 8,
   "metadata": {},
   "outputs": [
    {
     "name": "stdout",
     "output_type": "stream",
     "text": [
      "Once upon a time there live \n",
      "a bear family\n",
      "who ate delicious pizza\n",
      "66\n"
     ]
    }
   ],
   "source": [
    "story = \"\"\"Once upon a time there live \n",
    "a bear family\n",
    "who ate delicious pizza\"\"\"\n",
    "print(story)\n",
    "print(len(story))"
   ]
  },
  {
   "cell_type": "markdown",
   "metadata": {},
   "source": [
    "## Math Operation"
   ]
  },
  {
   "cell_type": "code",
   "execution_count": 9,
   "metadata": {},
   "outputs": [
    {
     "name": "stdout",
     "output_type": "stream",
     "text": [
      "5.25\n",
      "1\n"
     ]
    }
   ],
   "source": [
    "x=7\n",
    "y=4\n",
    "z=(x*3)/y\n",
    "m=(x*3)%y #mldulo returns the remainder\n",
    "print(z)\n",
    "print(m)"
   ]
  },
  {
   "cell_type": "markdown",
   "metadata": {},
   "source": [
    "## Lists (arrays)"
   ]
  },
  {
   "cell_type": "code",
   "execution_count": 11,
   "metadata": {},
   "outputs": [
    {
     "name": "stdout",
     "output_type": "stream",
     "text": [
      "Rechart\n"
     ]
    }
   ],
   "source": [
    "friends = ['Monica','Lython','Rechart', 'Karla','Hok']\n",
    "print(friends[2])"
   ]
  },
  {
   "cell_type": "markdown",
   "metadata": {},
   "source": [
    "## Q1.\n",
    "### a. Enter the statement to import the math module.\n",
    "### b.    Calculate the volume of the sphere with radius 10, ( v=43R2 )\n",
    "### c.    Display its value."
   ]
  },
  {
   "cell_type": "code",
   "execution_count": 1,
   "metadata": {},
   "outputs": [
    {
     "name": "stdout",
     "output_type": "stream",
     "text": [
      "4188.79020478639\n"
     ]
    }
   ],
   "source": [
    "from math import pi as PI\n",
    "Radius = 10\n",
    "Volume = 4/3*PI*Radius* Radius **2 \n",
    "print(Volume)"
   ]
  },
  {
   "cell_type": "markdown",
   "metadata": {},
   "source": [
    "### Q2.\n",
    "#### a.   Enter the following statements:\n",
    "#### from math import pi as PI\n",
    "#### radius = 10\n",
    "#### b.    Run the program from within IDLE by choosing the Run > Run Module option.\n",
    "#### c.    In the interactive shell, display the values of PI and radius.\n",
    "#### d.    Enter an expression to calculate the area of the circle. and display its value.\n"
   ]
  },
  {
   "cell_type": "code",
   "execution_count": 2,
   "metadata": {},
   "outputs": [
    {
     "name": "stdout",
     "output_type": "stream",
     "text": [
      "10\n",
      "3.141592653589793\n",
      "10\n",
      "314.1592653589793\n"
     ]
    }
   ],
   "source": [
    "from math import pi as PI\n",
    "Radius= 10\n",
    "print(Radius)\n",
    "10\n",
    "print(PI)\n",
    "3.141592653589793\n",
    "print(Radius)\n",
    "10\n",
    "Area = PI*Radius**2\n",
    "print(Area)\n"
   ]
  },
  {
   "cell_type": "markdown",
   "metadata": {},
   "source": [
    "### Q3.\n",
    "#### You run 10 kilometers in 40 minutes 30 seconds. Write program to find out how many miles you can run in an hour. A mile is 1.61 kilometers and display its value.\n"
   ]
  },
  {
   "cell_type": "code",
   "execution_count": 3,
   "metadata": {},
   "outputs": [
    {
     "name": "stdout",
     "output_type": "stream",
     "text": [
      "9.201748332183113\n"
     ]
    }
   ],
   "source": [
    "distance_in_miles = 10/1.61\n",
    "time_taken = 40.5/60\n",
    "# in hours\n",
    "speed = distance_in_miles /time_taken\n",
    "print(speed)"
   ]
  },
  {
   "cell_type": "code",
   "execution_count": null,
   "metadata": {},
   "outputs": [],
   "source": []
  }
 ],
 "metadata": {
  "kernelspec": {
   "display_name": "Python 3 (ipykernel)",
   "language": "python",
   "name": "python3"
  },
  "language_info": {
   "codemirror_mode": {
    "name": "ipython",
    "version": 3
   },
   "file_extension": ".py",
   "mimetype": "text/x-python",
   "name": "python",
   "nbconvert_exporter": "python",
   "pygments_lexer": "ipython3",
   "version": "3.9.7"
  }
 },
 "nbformat": 4,
 "nbformat_minor": 2
}
