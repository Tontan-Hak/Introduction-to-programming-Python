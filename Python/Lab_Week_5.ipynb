{
 "cells": [
  {
   "cell_type": "code",
   "execution_count": 1,
   "id": "90c9ebb8",
   "metadata": {},
   "outputs": [
    {
     "name": "stdout",
     "output_type": "stream",
     "text": [
      "4188.79020478639\n"
     ]
    }
   ],
   "source": [
    "#L5Q1\n",
    "#a. Enter the statement to import the math module.\n",
    "#b. Calculate the volume of the sphere with radius 10, ( V  \n",
    "#c. Display its value.\n",
    "from math import pi as PI\n",
    "R = 10\n",
    "V = 4/3*PI*R*R**2 \n",
    "print(V)"
   ]
  },
  {
   "cell_type": "code",
   "execution_count": 2,
   "id": "64bfa7dc",
   "metadata": {},
   "outputs": [
    {
     "name": "stdout",
     "output_type": "stream",
     "text": [
      "10\n",
      "3.141592653589793\n",
      "10\n",
      "314.1592653589793\n"
     ]
    }
   ],
   "source": [
    "#L5Q2\n",
    "#a.Enter the following statements:from math import pi as PI,radius = 10\n",
    "#b.Run the program from within IDLE by choosing the Run > Run Module option.\n",
    "#c.In the interactive shell, display the values of PI and radius.\n",
    "#d.Enter an expression to calculate the area of the circle. and display its value.\n",
    "from math import pi as PI\n",
    "Radius= 10\n",
    "print(Radius)\n",
    "10\n",
    "print(PI)\n",
    "3.141592653589793\n",
    "print(Radius)\n",
    "10\n",
    "Area = PI*Radius**2\n",
    "print(Area)"
   ]
  },
  {
   "cell_type": "code",
   "execution_count": 2,
   "id": "b60aea50",
   "metadata": {},
   "outputs": [
    {
     "name": "stdout",
     "output_type": "stream",
     "text": [
      "Enter the temperature:4\n",
      "Haha\n"
     ]
    }
   ],
   "source": [
    "temperature = float(input(\"Enter the temperature:\"))\n",
    "if temperature <=10 :\n",
    "    print('Haha')"
   ]
  },
  {
   "cell_type": "code",
   "execution_count": 6,
   "id": "3e6a8e42",
   "metadata": {},
   "outputs": [
    {
     "name": "stdout",
     "output_type": "stream",
     "text": [
      "Enter T:23\n",
      "Bigger\n",
      "Finish\n"
     ]
    }
   ],
   "source": [
    "T = float(input(\"Enter T:\"))\n",
    "if T <= 10:\n",
    "    print('Smaller')\n",
    "if T >20: \n",
    "    print('Bigger')\n",
    "print(\"Finish\")"
   ]
  },
  {
   "cell_type": "code",
   "execution_count": 10,
   "id": "929827f3",
   "metadata": {},
   "outputs": [
    {
     "data": {
      "text/plain": [
       "66"
      ]
     },
     "execution_count": 10,
     "metadata": {},
     "output_type": "execute_result"
    }
   ],
   "source": [
    "ord(\"B\")"
   ]
  },
  {
   "cell_type": "code",
   "execution_count": 11,
   "id": "0ef2521f",
   "metadata": {},
   "outputs": [
    {
     "data": {
      "text/plain": [
       "98"
      ]
     },
     "execution_count": 11,
     "metadata": {},
     "output_type": "execute_result"
    }
   ],
   "source": [
    "ord(\"b\")"
   ]
  },
  {
   "cell_type": "code",
   "execution_count": 12,
   "id": "f55972a7",
   "metadata": {},
   "outputs": [
    {
     "name": "stdout",
     "output_type": "stream",
     "text": [
      "Bigger than 2\n",
      "Still bigger\n",
      "Done with 2\n",
      "0\n",
      "Done with i 0\n",
      "1\n",
      "Done with i 1\n",
      "2\n",
      "Done with i 2\n",
      "3\n",
      "Bigger than 2\n",
      "Done with i 3\n",
      "4\n",
      "Bigger than 2\n",
      "Done with i 4\n",
      "All Done\n"
     ]
    }
   ],
   "source": [
    " x = 5\n",
    " if x > 2 :\n",
    "     print('Bigger than 2')\n",
    "     print('Still bigger')\n",
    " print('Done with 2')\n",
    "\n",
    " for i in range(5) :\n",
    "     print(i)\n",
    "     if i > 2 : \n",
    "         print('Bigger than 2')\n",
    "     print('Done with i', i)\n",
    " print('All Done') "
   ]
  },
  {
   "cell_type": "code",
   "execution_count": 13,
   "id": "e5223e7e",
   "metadata": {},
   "outputs": [
    {
     "name": "stdout",
     "output_type": "stream",
     "text": [
      "Bigger\n",
      "All done\n"
     ]
    }
   ],
   "source": [
    "if x > 2 :\n",
    "    print('Bigger')\n",
    "else :\n",
    "    print('Smaller')\n",
    "print('All done')"
   ]
  },
  {
   "cell_type": "code",
   "execution_count": 14,
   "id": "c5594704",
   "metadata": {},
   "outputs": [],
   "source": [
    "x = 1"
   ]
  },
  {
   "cell_type": "code",
   "execution_count": 15,
   "id": "629efe07",
   "metadata": {},
   "outputs": [
    {
     "name": "stdout",
     "output_type": "stream",
     "text": [
      "Smaller\n",
      "All done\n"
     ]
    }
   ],
   "source": [
    "if x > 2 :\n",
    "    print('Bigger')\n",
    "else :\n",
    "    print('Smaller')\n",
    "print('All done')"
   ]
  },
  {
   "cell_type": "code",
   "execution_count": 16,
   "id": "6cb46a16",
   "metadata": {},
   "outputs": [
    {
     "name": "stdout",
     "output_type": "stream",
     "text": [
      "Enter your marks: 87\n",
      "Congratulations, you have scored an A!\n"
     ]
    }
   ],
   "source": [
    "mark = int(input(\"Enter your marks: \"))\n",
    "\n",
    "if mark >= 80:\n",
    "    \tprint(\"Congratulations, you have scored an A!\")\n",
    "\n",
    "elif mark >= 70:\n",
    "    \tprint(\"Congratulations, you have scored a B!\")\n",
    "\n",
    "elif mark >= 60:\n",
    "    \tprint(\"Congratulations, you have scored a C!\")\n",
    "\n",
    "elif mark >= 50:\n",
    "    \tprint(\"Congratulations, you have scored a D!\")\n",
    "else:\n",
    "    \tprint(\"You have scored an N!\")\n",
    "    \tprint(\"Unfortunately, you did not pass!\")"
   ]
  },
  {
   "cell_type": "code",
   "execution_count": 17,
   "id": "31474d7c",
   "metadata": {},
   "outputs": [
    {
     "name": "stdout",
     "output_type": "stream",
     "text": [
      "Are you a citizen of Australia (y/n)? y\n",
      "How old are you (on your last birthday)? 24\n",
      "You are eligible to vote\n"
     ]
    }
   ],
   "source": [
    "citizen = input(\"Are you a citizen of Australia (y/n)? \")\n",
    "if citizen == 'n':\n",
    "    \tprint(\"You are not eligible to vote.\")\n",
    "else:\n",
    "    \tage = int(input(\"How old are you (on your last birthday)? \"))\n",
    "    \tif age < 18:\n",
    "        \t\tprint(\"You are too young to vote\")\n",
    "    \telse:\n",
    "        \t\tprint(\"You are eligible to vote\")"
   ]
  },
  {
   "cell_type": "code",
   "execution_count": 19,
   "id": "6ab2ef49",
   "metadata": {},
   "outputs": [
    {
     "name": "stdout",
     "output_type": "stream",
     "text": [
      "2\n",
      "3\n",
      "4\n",
      "5\n",
      "6\n",
      "7\n",
      "8\n",
      "9\n",
      "10\n",
      "11\n",
      "12\n",
      "13\n",
      "14\n",
      "15\n",
      "16\n",
      "17\n",
      "18\n",
      "19\n",
      "20\n",
      "21\n",
      "22\n",
      "23\n",
      "24\n",
      "25\n",
      "26\n",
      "27\n",
      "28\n",
      "29\n",
      "30\n",
      "31\n",
      "32\n",
      "33\n",
      "34\n",
      "35\n",
      "36\n",
      "37\n",
      "38\n",
      "39\n",
      "40\n",
      "41\n",
      "42\n",
      "43\n",
      "44\n",
      "45\n",
      "46\n",
      "47\n",
      "48\n",
      "49\n",
      "50\n",
      "51\n",
      "52\n",
      "53\n",
      "54\n",
      "55\n",
      "56\n",
      "57\n",
      "58\n",
      "59\n",
      "60\n",
      "61\n",
      "62\n",
      "63\n",
      "64\n",
      "65\n",
      "66\n",
      "67\n",
      "68\n",
      "69\n",
      "70\n",
      "71\n",
      "72\n",
      "73\n",
      "74\n",
      "75\n",
      "76\n",
      "77\n",
      "78\n",
      "79\n",
      "80\n",
      "81\n",
      "82\n",
      "83\n",
      "84\n",
      "85\n",
      "86\n",
      "87\n",
      "88\n",
      "89\n",
      "90\n",
      "91\n",
      "92\n",
      "93\n",
      "94\n",
      "95\n",
      "96\n",
      "97\n",
      "98\n",
      "99\n",
      "100\n",
      "101\n"
     ]
    }
   ],
   "source": [
    "n=1\n",
    "while n<=100:\n",
    "    #print(n)\n",
    "    n=n+1\n",
    "    print(n)"
   ]
  },
  {
   "cell_type": "code",
   "execution_count": 20,
   "id": "11438f80",
   "metadata": {},
   "outputs": [
    {
     "name": "stdout",
     "output_type": "stream",
     "text": [
      "2\n",
      "4\n",
      "6\n",
      "8\n",
      "10\n"
     ]
    }
   ],
   "source": [
    "n = 2 \n",
    "while n <= 10:\n",
    "    \tprint(n)\n",
    "    \tn = n + 2\n"
   ]
  },
  {
   "cell_type": "code",
   "execution_count": 22,
   "id": "7b935189",
   "metadata": {},
   "outputs": [
    {
     "name": "stdout",
     "output_type": "stream",
     "text": [
      "Hello!\n",
      "Continues? (y/n):y\n",
      "Hello!\n",
      "Continues? (y/n):y\n",
      "Hello!\n",
      "Continues? (y/n):n\n"
     ]
    }
   ],
   "source": [
    "response = \"y\"\n",
    "while response ==\"y\":\n",
    "    print(\"Hello!\")\n",
    "    response = input(\"Continues? (y/n):\")"
   ]
  },
  {
   "cell_type": "code",
   "execution_count": 24,
   "id": "32c9dea4",
   "metadata": {},
   "outputs": [
    {
     "name": "stdout",
     "output_type": "stream",
     "text": [
      "Hello\n",
      "Continue?(y/n): y\n",
      "Hello\n",
      "Continue?(y/n): y\n",
      "Hello\n",
      "Continue?(y/n): n\n"
     ]
    }
   ],
   "source": [
    "keepLooping = True\n",
    "while keepLooping: \n",
    "    \tprint(\"Hello\")\n",
    "    \tuserResponse = input(\"Continue?(y/n): \")\n",
    "    \tkeepLooping = userResponse == \"y\""
   ]
  },
  {
   "cell_type": "code",
   "execution_count": 27,
   "id": "974d63d4",
   "metadata": {},
   "outputs": [
    {
     "name": "stdout",
     "output_type": "stream",
     "text": [
      "1\n",
      "2\n",
      "3\n",
      "4\n"
     ]
    }
   ],
   "source": [
    "for n in range(1,5):\n",
    "    print(n)"
   ]
  },
  {
   "cell_type": "code",
   "execution_count": 26,
   "id": "8c7e832c",
   "metadata": {},
   "outputs": [
    {
     "data": {
      "text/plain": [
       "range(1, 5)"
      ]
     },
     "execution_count": 26,
     "metadata": {},
     "output_type": "execute_result"
    }
   ],
   "source": [
    "range(1,5)"
   ]
  },
  {
   "cell_type": "code",
   "execution_count": 28,
   "id": "73904939",
   "metadata": {},
   "outputs": [
    {
     "data": {
      "text/plain": [
       "range(0, 10, 2)"
      ]
     },
     "execution_count": 28,
     "metadata": {},
     "output_type": "execute_result"
    }
   ],
   "source": [
    "range(0,10,2)"
   ]
  },
  {
   "cell_type": "code",
   "execution_count": 29,
   "id": "466d5543",
   "metadata": {},
   "outputs": [
    {
     "name": "stdout",
     "output_type": "stream",
     "text": [
      "0\n",
      "2\n",
      "4\n",
      "6\n",
      "8\n"
     ]
    }
   ],
   "source": [
    "for n in range(0,10,2):\n",
    "    print(n)"
   ]
  },
  {
   "cell_type": "code",
   "execution_count": 30,
   "id": "6c64b2a2",
   "metadata": {},
   "outputs": [
    {
     "name": "stdout",
     "output_type": "stream",
     "text": [
      "60\n",
      "50\n",
      "90\n",
      "The pass rate is 60 %\n"
     ]
    }
   ],
   "source": [
    "marks = [60, 50, 40, 20, 90]\n",
    "count = 0\n",
    "for m in marks:\n",
    "    if m >= 50:\n",
    "        print(m)\n",
    "        count = count + 1\n",
    "passRate = count / len(marks)\n",
    "print(\"The pass rate is\", round(passRate * 100), \"%\")"
   ]
  },
  {
   "cell_type": "code",
   "execution_count": 31,
   "id": "40e3845d",
   "metadata": {},
   "outputs": [
    {
     "name": "stdout",
     "output_type": "stream",
     "text": [
      "1 2\n",
      "2 4\n",
      "3 8\n",
      "4 16\n",
      "5 32\n",
      "6 64\n",
      "7 128\n",
      "8 256\n",
      "9 512\n",
      "10 1024\n",
      "11 2048\n",
      "12 4096\n",
      "13 8192\n",
      "14 16384\n",
      "15 32768\n",
      "16 65536\n"
     ]
    }
   ],
   "source": [
    "start = 1\n",
    "end = 16\n",
    "for n in range(start, end+1):\n",
    "print(n, 2**n)"
   ]
  },
  {
   "cell_type": "code",
   "execution_count": 32,
   "id": "9b6459b3",
   "metadata": {},
   "outputs": [
    {
     "name": "stdout",
     "output_type": "stream",
     "text": [
      "....*\n",
      "...***\n",
      "..*****\n",
      ".*******\n",
      "*********\n"
     ]
    }
   ],
   "source": [
    "size = 5\n",
    "for n in range(1, size+1):\n",
    "    spaces = size - n\n",
    "    stars = 2*n - 1\n",
    "    line = \".\" * spaces + \"*\" * stars\n",
    "    print(line)"
   ]
  },
  {
   "cell_type": "code",
   "execution_count": null,
   "id": "30f99840",
   "metadata": {},
   "outputs": [],
   "source": []
  }
 ],
 "metadata": {
  "kernelspec": {
   "display_name": "Python 3 (ipykernel)",
   "language": "python",
   "name": "python3"
  },
  "language_info": {
   "codemirror_mode": {
    "name": "ipython",
    "version": 3
   },
   "file_extension": ".py",
   "mimetype": "text/x-python",
   "name": "python",
   "nbconvert_exporter": "python",
   "pygments_lexer": "ipython3",
   "version": "3.9.7"
  }
 },
 "nbformat": 4,
 "nbformat_minor": 5
}
