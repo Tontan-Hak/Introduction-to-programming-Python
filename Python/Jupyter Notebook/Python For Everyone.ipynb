{
 "cells": [
  {
   "cell_type": "markdown",
   "id": "7064d5e4",
   "metadata": {},
   "source": [
    "# Python For Everyone"
   ]
  },
  {
   "cell_type": "markdown",
   "id": "ea4fa950",
   "metadata": {},
   "source": [
    "## Assignment 2.2"
   ]
  },
  {
   "cell_type": "code",
   "execution_count": 2,
   "id": "cbade6af",
   "metadata": {},
   "outputs": [
    {
     "name": "stdout",
     "output_type": "stream",
     "text": [
      "Enter your nameTontan\n",
      "Hello Tontan\n"
     ]
    }
   ],
   "source": [
    "name = input(\"Enter your name\" )\n",
    "print('Hello',name)"
   ]
  },
  {
   "cell_type": "code",
   "execution_count": null,
   "id": "92ec807b",
   "metadata": {},
   "outputs": [],
   "source": []
  }
 ],
 "metadata": {
  "kernelspec": {
   "display_name": "Python 3 (ipykernel)",
   "language": "python",
   "name": "python3"
  },
  "language_info": {
   "codemirror_mode": {
    "name": "ipython",
    "version": 3
   },
   "file_extension": ".py",
   "mimetype": "text/x-python",
   "name": "python",
   "nbconvert_exporter": "python",
   "pygments_lexer": "ipython3",
   "version": "3.9.7"
  }
 },
 "nbformat": 4,
 "nbformat_minor": 5
}
