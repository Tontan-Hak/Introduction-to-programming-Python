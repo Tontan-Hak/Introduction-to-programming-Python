{
 "cells": [
  {
   "cell_type": "code",
   "execution_count": 2,
   "id": "71a3b48a",
   "metadata": {},
   "outputs": [
    {
     "name": "stdout",
     "output_type": "stream",
     "text": [
      "[9, 8, 7, 4, 4, 3, 2, 1, -2, -3, -6]\n"
     ]
    }
   ],
   "source": [
    "#1. Write a python program to print Prime Numbers between 2 numbers\n",
    "initial_list = [1,2,3,4,-3,4,7,8,9,-6,-2]\n",
    "new_list = []\n",
    "while initial_list:\n",
    "    maximum = initial_list[0]\n",
    "    for i in initial_list:\n",
    "        if maximum < i: \n",
    "            maximum = i \n",
    "    new_list.append(maximum)\n",
    "    initial_list.remove(maximum)\n",
    "print(new_list)"
   ]
  },
  {
   "cell_type": "code",
   "execution_count": 3,
   "id": "7f2c10ab",
   "metadata": {},
   "outputs": [
    {
     "name": "stdout",
     "output_type": "stream",
     "text": [
      "2145\n"
     ]
    }
   ],
   "source": [
    "amount = 0 \n",
    "for num in range (100,201):\n",
    "    for i in range (2, 100):\n",
    "        if (num%i==0):\n",
    "            break\n",
    "        else:\n",
    "            amount = amount + 1\n",
    "print(amount)"
   ]
  },
  {
   "cell_type": "code",
   "execution_count": 4,
   "id": "68d92889",
   "metadata": {},
   "outputs": [
    {
     "name": "stdout",
     "output_type": "stream",
     "text": [
      "101\n",
      "103\n",
      "107\n",
      "109\n",
      "113\n",
      "127\n",
      "131\n",
      "137\n",
      "139\n",
      "149\n",
      "151\n",
      "157\n",
      "163\n",
      "167\n",
      "173\n",
      "179\n",
      "181\n",
      "191\n",
      "193\n",
      "197\n",
      "199\n"
     ]
    }
   ],
   "source": [
    "for num in range (100,200):\n",
    "    if all(num%i!=0 for i in range (2,num)):\n",
    "        print(num)"
   ]
  },
  {
   "cell_type": "code",
   "execution_count": 5,
   "id": "0f843662",
   "metadata": {},
   "outputs": [
    {
     "name": "stdout",
     "output_type": "stream",
     "text": [
      "[-6, -3, -2, 1, 2, 3, 4, 4, 7, 8, 9]\n"
     ]
    }
   ],
   "source": [
    "initial_list = [1,2,3,4,-3,4,7,8,9,-6,-2]\n",
    "new_list = []\n",
    "while initial_list:\n",
    "    minimum = initial_list[0]\n",
    "    for i in initial_list:\n",
    "        if minimum > i: \n",
    "            minimum = i \n",
    "\n",
    "    new_list.append(minimum)\n",
    "    initial_list.remove(minimum)\n",
    "print(new_list)"
   ]
  },
  {
   "cell_type": "code",
   "execution_count": null,
   "id": "072f91ca",
   "metadata": {},
   "outputs": [],
   "source": []
  }
 ],
 "metadata": {
  "kernelspec": {
   "display_name": "Python 3 (ipykernel)",
   "language": "python",
   "name": "python3"
  },
  "language_info": {
   "codemirror_mode": {
    "name": "ipython",
    "version": 3
   },
   "file_extension": ".py",
   "mimetype": "text/x-python",
   "name": "python",
   "nbconvert_exporter": "python",
   "pygments_lexer": "ipython3",
   "version": "3.9.7"
  }
 },
 "nbformat": 4,
 "nbformat_minor": 5
}
