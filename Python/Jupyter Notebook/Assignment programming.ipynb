{
 "cells": [
  {
   "cell_type": "markdown",
   "id": "841dfca7",
   "metadata": {},
   "source": [
    "## Assignment "
   ]
  },
  {
   "cell_type": "code",
   "execution_count": 21,
   "id": "23c31b69",
   "metadata": {},
   "outputs": [
    {
     "name": "stdout",
     "output_type": "stream",
     "text": [
      "How much money you have to save into account each month?100\n",
      "How many month you want to put your money?12\n",
      "How much interest you earn annually? 12\n",
      "\u001b[92m=============================================================================================================\u001b[0m\n",
      "\u001b[94mMonth\u001b[0m\t \u001b[93mDeposit\u001b[0m\t \u001b[92mTotal Deposits\u001b[0m\t \u001b[96mThis Month's Interest\u001b[0m\t \u001b[95mTotal-Interest Earned\u001b[0m\t \u001b[91mTotal-Value To Date\u001b[0m\n",
      "\u001b[92m=============================================================================================================\u001b[0m\n",
      "1\t 100.0\t\t   100.0\t\t   100.0\t\t 100.0\t\t    101.00\n",
      "2\t 100.0\t\t   200.0\t\t   100.0\t\t 100.0\t\t    204.02\n",
      "3\t 100.0\t\t   300.0\t\t   100.0\t\t 100.0\t\t    309.09\n",
      "4\t 100.0\t\t   400.0\t\t   100.0\t\t 100.0\t\t    416.24\n",
      "5\t 100.0\t\t   500.0\t\t   100.0\t\t 100.0\t\t    525.51\n",
      "6\t 100.0\t\t   600.0\t\t   100.0\t\t 100.0\t\t    636.91\n",
      "7\t 100.0\t\t   700.0\t\t   100.0\t\t 100.0\t\t    750.49\n",
      "8\t 100.0\t\t   800.0\t\t   100.0\t\t 100.0\t\t    866.29\n",
      "9\t 100.0\t\t   900.0\t\t   100.0\t\t 100.0\t\t    984.32\n",
      "10\t 100.0\t\t   1000.0\t\t   100.0\t\t 100.0\t\t    1104.62\n",
      "11\t 100.0\t\t   1100.0\t\t   100.0\t\t 100.0\t\t    1227.24\n",
      "12\t 100.0\t\t   1200.0\t\t   100.0\t\t 100.0\t\t    1352.19\n"
     ]
    }
   ],
   "source": [
    "#Get user input\n",
    "A = float(input(\"How much money you have to save into account each month?\"))\n",
    "N = int(input(\"How many month you want to put your money?\"))\n",
    "W = float(input(\"How much interest you earn annually? \"))\n",
    "w = W / 1200 # interest for each month\n",
    "\n",
    "# Color\n",
    "class bcolors:\n",
    "    HEADER = '\\033[95m'\n",
    "    OKBLUE = '\\033[94m'\n",
    "    OKCYAN = '\\033[96m'\n",
    "    OKGREEN = '\\033[92m'\n",
    "    WARNING = '\\033[93m'\n",
    "    FAIL = '\\033[91m'\n",
    "    ENDC = '\\033[0m'\n",
    "    BOLD = '\\033[1m'\n",
    "    UNDERLINE = '\\033[4m'\n",
    "print(f\"{bcolors.OKGREEN}============================================================================================================={bcolors.ENDC}\")\n",
    "\n",
    "\n",
    "print(f\"{bcolors.OKBLUE}Month{bcolors.ENDC}\\t {bcolors.WARNING}Deposit{bcolors.ENDC}\\t {bcolors.OKGREEN}Total Deposits{bcolors.ENDC}\\t {bcolors.OKCYAN}This Month's Interest{bcolors.ENDC}\\t {bcolors.HEADER}Total-Interest Earned{bcolors.ENDC}\\t {bcolors.FAIL}Total-Value To Date{bcolors.ENDC}\")\n",
    "print(f\"{bcolors.OKGREEN}============================================================================================================={bcolors.ENDC}\")\n",
    "\n",
    "# Display Result as a table\n",
    "for time in range(1,N+1):\n",
    "    print(str(time)+\"\\t \", end='')\n",
    "    print(str(A)+\"\\t\\t   \",end ='') #Deposit\n",
    "    print(str(time*A)+\"\\t\\t   \",end ='') #Total Deposit\n",
    "    print(str(A)+\"\\t\\t \",end='') #This Month's Interest\n",
    "    print(str(A)+\"\\t\\t    \",end='') # Total-Interest Earned\n",
    "# *******************Here the problem I want to solve ******************************#\n",
    "    #f=(A*(1+W/1200))\n",
    "    #f1=(f+(A*(1+W/1200)**2))\n",
    "    #f2=(f1+(A*(1+W/1200)**3))\n",
    "    #f3=(f2+(A*(1+W/1200)**4))\n",
    "    #f4=(f3+(A*(1+W/1200)**5))\n",
    "    print(str(format((A*time)*(1+w)**time,\".2f\"))) #Total-Value To Date"
   ]
  },
  {
   "cell_type": "code",
   "execution_count": 11,
   "id": "2b2335c8",
   "metadata": {},
   "outputs": [
    {
     "name": "stdout",
     "output_type": "stream",
     "text": [
      "How much money you have to save into account each month?100\n",
      "How many month you want to put your money?5\n",
      "How much interest you earn annually? 12.00\n"
     ]
    },
    {
     "ename": "ModuleNotFoundError",
     "evalue": "No module named 'prettytable'",
     "output_type": "error",
     "traceback": [
      "\u001b[1;31m---------------------------------------------------------------------------\u001b[0m",
      "\u001b[1;31mModuleNotFoundError\u001b[0m                       Traceback (most recent call last)",
      "Input \u001b[1;32mIn [11]\u001b[0m, in \u001b[0;36m<cell line: 7>\u001b[1;34m()\u001b[0m\n\u001b[0;32m      4\u001b[0m W \u001b[38;5;241m=\u001b[39m \u001b[38;5;28mfloat\u001b[39m(\u001b[38;5;28minput\u001b[39m(\u001b[38;5;124m\"\u001b[39m\u001b[38;5;124mHow much interest you earn annually? \u001b[39m\u001b[38;5;124m\"\u001b[39m))\n\u001b[0;32m      5\u001b[0m w \u001b[38;5;241m=\u001b[39m W \u001b[38;5;241m/\u001b[39m \u001b[38;5;241m1200\u001b[39m \u001b[38;5;66;03m# interest for each month\u001b[39;00m\n\u001b[1;32m----> 7\u001b[0m \u001b[38;5;28;01mfrom\u001b[39;00m \u001b[38;5;21;01mprettytable\u001b[39;00m \u001b[38;5;28;01mimport\u001b[39;00m PrettyTable\n\u001b[0;32m      9\u001b[0m \u001b[38;5;66;03m#table from list\u001b[39;00m\n\u001b[0;32m     10\u001b[0m Month \u001b[38;5;241m=\u001b[39m [\u001b[38;5;124m'\u001b[39m\u001b[38;5;124ma\u001b[39m\u001b[38;5;124m'\u001b[39m, \u001b[38;5;124m'\u001b[39m\u001b[38;5;124mb\u001b[39m\u001b[38;5;124m'\u001b[39m, \u001b[38;5;124m'\u001b[39m\u001b[38;5;124mc\u001b[39m\u001b[38;5;124m'\u001b[39m]\n",
      "\u001b[1;31mModuleNotFoundError\u001b[0m: No module named 'prettytable'"
     ]
    }
   ],
   "source": [
    "#Get user input\n",
    "A = float(input(\"How much money you have to save into account each month?\"))\n",
    "N = int(input(\"How many month you want to put your money?\"))\n",
    "W = float(input(\"How much interest you earn annually? \"))\n",
    "w = W / 1200 # interest for each month\n",
    "\n",
    "from prettytable import PrettyTable\n",
    "\n",
    "#table from list\n",
    "Month = ['a', 'b', 'c']\n",
    "Disposite = ['1','2','3']\n",
    "table = PrettyTable(['Month', 'Disposite'])\n",
    "for x in range(0,5):\n",
    "    table.add_row([Month[x], Disposite[x]])\n",
    "print(table)\n",
    "\n",
    "\n",
    "#print(string(Month Deposit Total Deposits This Month's Interest Total-Interest Earned Total-Value To Date))\n",
    "\n",
    "# Display Result as a table\n",
    "for time in range(1,N+1):\n",
    "    print(str(time)+\"\\t \", end='')\n",
    "    print(str(A)+\"\\t\\t   \",end ='') #Deposit\n",
    "    print(str(time*A)+\"\\t\\t   \",end ='') #Total Deposit\n",
    "    print(str(A)+\"\\t\\t \",end='') #This Month's Interest\n",
    "    print(str(A)+\"\\t\\t    \",end='') # Total-Interest Earned\n",
    "# *******************Here the problem I want to solve ******************************#\n",
    "f=(Deposit*(1+interest/1200))\n",
    "f1=(f+(Deposit*(1+interest/1200)**2))\n",
    "f2=(f1+(Deposit*(1+interest/1200)**3))\n",
    "f3=(f2+(Deposit*(1+interest/1200)**4))\n",
    "f4=(f3+(Deposit*(1+interest/1200)**5))\n",
    "print('f','f1','f2','f3','f4')\n",
    "#print(str(format((A*time)*(1+w)**time,\".2f\"))) #Total-Value To Date"
   ]
  },
  {
   "cell_type": "code",
   "execution_count": 8,
   "id": "660a5150",
   "metadata": {},
   "outputs": [
    {
     "ename": "ModuleNotFoundError",
     "evalue": "No module named 'prettytable'",
     "output_type": "error",
     "traceback": [
      "\u001b[1;31m---------------------------------------------------------------------------\u001b[0m",
      "\u001b[1;31mModuleNotFoundError\u001b[0m                       Traceback (most recent call last)",
      "Input \u001b[1;32mIn [8]\u001b[0m, in \u001b[0;36m<cell line: 1>\u001b[1;34m()\u001b[0m\n\u001b[1;32m----> 1\u001b[0m \u001b[38;5;28;01mfrom\u001b[39;00m \u001b[38;5;21;01mprettytable\u001b[39;00m \u001b[38;5;28;01mimport\u001b[39;00m PrettyTable\n\u001b[0;32m      3\u001b[0m myTable \u001b[38;5;241m=\u001b[39m PrettyTable([\u001b[38;5;124m'\u001b[39m\u001b[38;5;124mMonth\u001b[39m\u001b[38;5;124m'\u001b[39m,\u001b[38;5;124m'\u001b[39m\u001b[38;5;124mDisposite\u001b[39m\u001b[38;5;124m'\u001b[39m, \u001b[38;5;124m'\u001b[39m\u001b[38;5;124mTotal Disposit\u001b[39m\u001b[38;5;124m'\u001b[39m])\n\u001b[0;32m      4\u001b[0m myTable\u001b[38;5;241m.\u001b[39madd_row([\u001b[38;5;124m'\u001b[39m\u001b[38;5;124mTonta\u001b[39m\u001b[38;5;124m'\u001b[39m, \u001b[38;5;124m'\u001b[39m\u001b[38;5;124m10th\u001b[39m\u001b[38;5;124m'\u001b[39m, \u001b[38;5;124m'\u001b[39m\u001b[38;5;124mA\u001b[39m\u001b[38;5;124m'\u001b[39m])\n",
      "\u001b[1;31mModuleNotFoundError\u001b[0m: No module named 'prettytable'"
     ]
    }
   ],
   "source": [
    "from prettytable import PrettyTable\n",
    "\n",
    "myTable = PrettyTable(['Month','Disposite', 'Total Disposit'])\n",
    "myTable.add_row(['Tonta', '10th', 'A'])\n",
    "\n",
    "print(myTable)"
   ]
  }
 ],
 "metadata": {
  "kernelspec": {
   "display_name": "Python 3 (ipykernel)",
   "language": "python",
   "name": "python3"
  },
  "language_info": {
   "codemirror_mode": {
    "name": "ipython",
    "version": 3
   },
   "file_extension": ".py",
   "mimetype": "text/x-python",
   "name": "python",
   "nbconvert_exporter": "python",
   "pygments_lexer": "ipython3",
   "version": "3.9.7"
  }
 },
 "nbformat": 4,
 "nbformat_minor": 5
}
