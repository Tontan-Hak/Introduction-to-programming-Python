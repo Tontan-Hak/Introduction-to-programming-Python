{
 "cells": [
  {
   "cell_type": "code",
   "execution_count": 3,
   "id": "90c9ebb8",
   "metadata": {},
   "outputs": [
    {
     "name": "stdout",
     "output_type": "stream",
     "text": [
      "4188.79020478639\n"
     ]
    }
   ],
   "source": [
    "#L5Q1\n",
    "#a. Enter the statement to import the math module.\n",
    "\n",
    "#b. Calculate the volume of the sphere with radius 10, ( V  \n",
    "\n",
    "#c. Display its value.\n",
    "from math import pi as PI\n",
    "Radius = 10\n",
    "Volume = 4/3*PI*Radius* Radius **2 \n",
    "print(Volume)"
   ]
  },
  {
   "cell_type": "code",
   "execution_count": 4,
   "id": "64bfa7dc",
   "metadata": {},
   "outputs": [
    {
     "name": "stdout",
     "output_type": "stream",
     "text": [
      "10\n",
      "3.141592653589793\n",
      "10\n",
      "314.1592653589793\n"
     ]
    }
   ],
   "source": [
    "#L5Q2\n",
    "#a.Enter the following statements:from math import pi as PI,radius = 10\n",
    "\n",
    "#b.    Run the program from within IDLE by choosing the Run > Run Module option.\n",
    "\n",
    "#c.    In the interactive shell, display the values of PI and radius.\n",
    "\n",
    "#d.    Enter an expression to calculate the area of the circle. and display its value.\n",
    "from math import pi as PI\n",
    "\n",
    "Radius= 10\n",
    "\n",
    "print(Radius)\n",
    "\n",
    "10\n",
    "\n",
    "print(PI)\n",
    "\n",
    "3.141592653589793\n",
    "\n",
    "print(Radius)\n",
    "\n",
    "10\n",
    "\n",
    "Area = PI*Radius**2\n",
    "\n",
    "print(Area)"
   ]
  },
  {
   "cell_type": "code",
   "execution_count": null,
   "id": "b60aea50",
   "metadata": {},
   "outputs": [],
   "source": []
  }
 ],
 "metadata": {
  "kernelspec": {
   "display_name": "Python 3 (ipykernel)",
   "language": "python",
   "name": "python3"
  },
  "language_info": {
   "codemirror_mode": {
    "name": "ipython",
    "version": 3
   },
   "file_extension": ".py",
   "mimetype": "text/x-python",
   "name": "python",
   "nbconvert_exporter": "python",
   "pygments_lexer": "ipython3",
   "version": "3.9.7"
  }
 },
 "nbformat": 4,
 "nbformat_minor": 5
}
